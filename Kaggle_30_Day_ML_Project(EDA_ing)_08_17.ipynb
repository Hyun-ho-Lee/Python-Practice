{
  "nbformat": 4,
  "nbformat_minor": 0,
  "metadata": {
    "colab": {
      "name": "Kaggle 30 Day ML Project(EDA ing)  08 17.ipynb",
      "provenance": [],
      "collapsed_sections": [],
      "authorship_tag": "ABX9TyOwLjcbjcAtLr9pXkW0tp/B",
      "include_colab_link": true
    },
    "kernelspec": {
      "name": "python3",
      "display_name": "Python 3"
    },
    "language_info": {
      "name": "python"
    }
  },
  "cells": [
    {
      "cell_type": "markdown",
      "metadata": {
        "id": "view-in-github",
        "colab_type": "text"
      },
      "source": [
        "<a href=\"https://colab.research.google.com/github/Hyun-ho-Lee/Python-Practice/blob/main/Kaggle_30_Day_ML_Project(EDA_ing)_08_17.ipynb\" target=\"_parent\"><img src=\"https://colab.research.google.com/assets/colab-badge.svg\" alt=\"Open In Colab\"/></a>"
      ]
    },
    {
      "cell_type": "code",
      "metadata": {
        "id": "sdmip7lI8yzP"
      },
      "source": [
        "import pandas as pd\n",
        "import numpy as np\n",
        "import seaborn as sns\n",
        "import matplotlib.pyplot as plt\n",
        "import warnings\n",
        "warnings.filterwarnings('ignore')"
      ],
      "execution_count": 9,
      "outputs": []
    },
    {
      "cell_type": "code",
      "metadata": {
        "colab": {
          "base_uri": "https://localhost:8080/"
        },
        "id": "mBLN5YBW6ZrK",
        "outputId": "6015906e-3988-48d2-e857-974dbbaa7d1a"
      },
      "source": [
        "import os \n",
        "from google.colab import drive\n",
        "drive.mount('/content/drvie')\n",
        "import pandas as pd\n",
        "\n",
        "train = pd.read_csv(\"/content/drvie/MyDrive/30_train.csv\",index_col='id')\n",
        "test = pd.read_csv(\"/content/drvie/MyDrive/30_test.csv\",index_col='id')"
      ],
      "execution_count": 10,
      "outputs": [
        {
          "output_type": "stream",
          "text": [
            "Drive already mounted at /content/drvie; to attempt to forcibly remount, call drive.mount(\"/content/drvie\", force_remount=True).\n"
          ],
          "name": "stdout"
        }
      ]
    },
    {
      "cell_type": "code",
      "metadata": {
        "colab": {
          "base_uri": "https://localhost:8080/",
          "height": 235
        },
        "id": "UB5uMX-E7Ooo",
        "outputId": "7f32449d-1b0e-4971-aeb6-5aa3fe24b070"
      },
      "source": [
        "train.head()"
      ],
      "execution_count": 11,
      "outputs": [
        {
          "output_type": "execute_result",
          "data": {
            "text/html": [
              "<div>\n",
              "<style scoped>\n",
              "    .dataframe tbody tr th:only-of-type {\n",
              "        vertical-align: middle;\n",
              "    }\n",
              "\n",
              "    .dataframe tbody tr th {\n",
              "        vertical-align: top;\n",
              "    }\n",
              "\n",
              "    .dataframe thead th {\n",
              "        text-align: right;\n",
              "    }\n",
              "</style>\n",
              "<table border=\"1\" class=\"dataframe\">\n",
              "  <thead>\n",
              "    <tr style=\"text-align: right;\">\n",
              "      <th></th>\n",
              "      <th>cat0</th>\n",
              "      <th>cat1</th>\n",
              "      <th>cat2</th>\n",
              "      <th>cat3</th>\n",
              "      <th>cat4</th>\n",
              "      <th>cat5</th>\n",
              "      <th>cat6</th>\n",
              "      <th>cat7</th>\n",
              "      <th>cat8</th>\n",
              "      <th>cat9</th>\n",
              "      <th>cont0</th>\n",
              "      <th>cont1</th>\n",
              "      <th>cont2</th>\n",
              "      <th>cont3</th>\n",
              "      <th>cont4</th>\n",
              "      <th>cont5</th>\n",
              "      <th>cont6</th>\n",
              "      <th>cont7</th>\n",
              "      <th>cont8</th>\n",
              "      <th>cont9</th>\n",
              "      <th>cont10</th>\n",
              "      <th>cont11</th>\n",
              "      <th>cont12</th>\n",
              "      <th>cont13</th>\n",
              "      <th>target</th>\n",
              "    </tr>\n",
              "    <tr>\n",
              "      <th>id</th>\n",
              "      <th></th>\n",
              "      <th></th>\n",
              "      <th></th>\n",
              "      <th></th>\n",
              "      <th></th>\n",
              "      <th></th>\n",
              "      <th></th>\n",
              "      <th></th>\n",
              "      <th></th>\n",
              "      <th></th>\n",
              "      <th></th>\n",
              "      <th></th>\n",
              "      <th></th>\n",
              "      <th></th>\n",
              "      <th></th>\n",
              "      <th></th>\n",
              "      <th></th>\n",
              "      <th></th>\n",
              "      <th></th>\n",
              "      <th></th>\n",
              "      <th></th>\n",
              "      <th></th>\n",
              "      <th></th>\n",
              "      <th></th>\n",
              "      <th></th>\n",
              "    </tr>\n",
              "  </thead>\n",
              "  <tbody>\n",
              "    <tr>\n",
              "      <th>1</th>\n",
              "      <td>B</td>\n",
              "      <td>B</td>\n",
              "      <td>B</td>\n",
              "      <td>C</td>\n",
              "      <td>B</td>\n",
              "      <td>B</td>\n",
              "      <td>A</td>\n",
              "      <td>E</td>\n",
              "      <td>C</td>\n",
              "      <td>N</td>\n",
              "      <td>0.201470</td>\n",
              "      <td>-0.014822</td>\n",
              "      <td>0.669699</td>\n",
              "      <td>0.136278</td>\n",
              "      <td>0.610706</td>\n",
              "      <td>0.400361</td>\n",
              "      <td>0.160266</td>\n",
              "      <td>0.310921</td>\n",
              "      <td>0.389470</td>\n",
              "      <td>0.267559</td>\n",
              "      <td>0.237281</td>\n",
              "      <td>0.377873</td>\n",
              "      <td>0.322401</td>\n",
              "      <td>0.869850</td>\n",
              "      <td>8.113634</td>\n",
              "    </tr>\n",
              "    <tr>\n",
              "      <th>2</th>\n",
              "      <td>B</td>\n",
              "      <td>B</td>\n",
              "      <td>A</td>\n",
              "      <td>A</td>\n",
              "      <td>B</td>\n",
              "      <td>D</td>\n",
              "      <td>A</td>\n",
              "      <td>F</td>\n",
              "      <td>A</td>\n",
              "      <td>O</td>\n",
              "      <td>0.743068</td>\n",
              "      <td>0.367411</td>\n",
              "      <td>1.021605</td>\n",
              "      <td>0.365798</td>\n",
              "      <td>0.276853</td>\n",
              "      <td>0.533087</td>\n",
              "      <td>0.558922</td>\n",
              "      <td>0.516294</td>\n",
              "      <td>0.594928</td>\n",
              "      <td>0.341439</td>\n",
              "      <td>0.906013</td>\n",
              "      <td>0.921701</td>\n",
              "      <td>0.261975</td>\n",
              "      <td>0.465083</td>\n",
              "      <td>8.481233</td>\n",
              "    </tr>\n",
              "    <tr>\n",
              "      <th>3</th>\n",
              "      <td>A</td>\n",
              "      <td>A</td>\n",
              "      <td>A</td>\n",
              "      <td>C</td>\n",
              "      <td>B</td>\n",
              "      <td>D</td>\n",
              "      <td>A</td>\n",
              "      <td>D</td>\n",
              "      <td>A</td>\n",
              "      <td>F</td>\n",
              "      <td>0.742708</td>\n",
              "      <td>0.310383</td>\n",
              "      <td>-0.012673</td>\n",
              "      <td>0.576957</td>\n",
              "      <td>0.285074</td>\n",
              "      <td>0.650609</td>\n",
              "      <td>0.375348</td>\n",
              "      <td>0.902567</td>\n",
              "      <td>0.555205</td>\n",
              "      <td>0.843531</td>\n",
              "      <td>0.748809</td>\n",
              "      <td>0.620126</td>\n",
              "      <td>0.541474</td>\n",
              "      <td>0.763846</td>\n",
              "      <td>8.364351</td>\n",
              "    </tr>\n",
              "    <tr>\n",
              "      <th>4</th>\n",
              "      <td>B</td>\n",
              "      <td>B</td>\n",
              "      <td>A</td>\n",
              "      <td>C</td>\n",
              "      <td>B</td>\n",
              "      <td>D</td>\n",
              "      <td>A</td>\n",
              "      <td>E</td>\n",
              "      <td>C</td>\n",
              "      <td>K</td>\n",
              "      <td>0.429551</td>\n",
              "      <td>0.620998</td>\n",
              "      <td>0.577942</td>\n",
              "      <td>0.280610</td>\n",
              "      <td>0.284667</td>\n",
              "      <td>0.668980</td>\n",
              "      <td>0.239061</td>\n",
              "      <td>0.732948</td>\n",
              "      <td>0.679618</td>\n",
              "      <td>0.574844</td>\n",
              "      <td>0.346010</td>\n",
              "      <td>0.714610</td>\n",
              "      <td>0.540150</td>\n",
              "      <td>0.280682</td>\n",
              "      <td>8.049253</td>\n",
              "    </tr>\n",
              "    <tr>\n",
              "      <th>6</th>\n",
              "      <td>A</td>\n",
              "      <td>A</td>\n",
              "      <td>A</td>\n",
              "      <td>C</td>\n",
              "      <td>B</td>\n",
              "      <td>D</td>\n",
              "      <td>A</td>\n",
              "      <td>E</td>\n",
              "      <td>A</td>\n",
              "      <td>N</td>\n",
              "      <td>1.058291</td>\n",
              "      <td>0.367492</td>\n",
              "      <td>-0.052389</td>\n",
              "      <td>0.232407</td>\n",
              "      <td>0.287595</td>\n",
              "      <td>0.686964</td>\n",
              "      <td>0.420667</td>\n",
              "      <td>0.648182</td>\n",
              "      <td>0.684501</td>\n",
              "      <td>0.956692</td>\n",
              "      <td>1.000773</td>\n",
              "      <td>0.776742</td>\n",
              "      <td>0.625849</td>\n",
              "      <td>0.250823</td>\n",
              "      <td>7.972260</td>\n",
              "    </tr>\n",
              "  </tbody>\n",
              "</table>\n",
              "</div>"
            ],
            "text/plain": [
              "   cat0 cat1 cat2 cat3 cat4  ...    cont10    cont11    cont12    cont13    target\n",
              "id                           ...                                                  \n",
              "1     B    B    B    C    B  ...  0.237281  0.377873  0.322401  0.869850  8.113634\n",
              "2     B    B    A    A    B  ...  0.906013  0.921701  0.261975  0.465083  8.481233\n",
              "3     A    A    A    C    B  ...  0.748809  0.620126  0.541474  0.763846  8.364351\n",
              "4     B    B    A    C    B  ...  0.346010  0.714610  0.540150  0.280682  8.049253\n",
              "6     A    A    A    C    B  ...  1.000773  0.776742  0.625849  0.250823  7.972260\n",
              "\n",
              "[5 rows x 25 columns]"
            ]
          },
          "metadata": {
            "tags": []
          },
          "execution_count": 11
        }
      ]
    },
    {
      "cell_type": "code",
      "metadata": {
        "colab": {
          "base_uri": "https://localhost:8080/"
        },
        "id": "9cgJX3IC7qvH",
        "outputId": "f9dc4ced-ff09-46f4-f244-88605442d144"
      },
      "source": [
        "train.isnull().sum()"
      ],
      "execution_count": 12,
      "outputs": [
        {
          "output_type": "execute_result",
          "data": {
            "text/plain": [
              "cat0      0\n",
              "cat1      0\n",
              "cat2      0\n",
              "cat3      0\n",
              "cat4      0\n",
              "cat5      0\n",
              "cat6      0\n",
              "cat7      0\n",
              "cat8      0\n",
              "cat9      0\n",
              "cont0     0\n",
              "cont1     0\n",
              "cont2     0\n",
              "cont3     0\n",
              "cont4     0\n",
              "cont5     0\n",
              "cont6     0\n",
              "cont7     0\n",
              "cont8     0\n",
              "cont9     0\n",
              "cont10    0\n",
              "cont11    0\n",
              "cont12    0\n",
              "cont13    0\n",
              "target    0\n",
              "dtype: int64"
            ]
          },
          "metadata": {
            "tags": []
          },
          "execution_count": 12
        }
      ]
    },
    {
      "cell_type": "code",
      "metadata": {
        "colab": {
          "base_uri": "https://localhost:8080/"
        },
        "id": "ziiXh_528NMU",
        "outputId": "ee5cce31-d72a-4ce0-89cf-410d2853cb08"
      },
      "source": [
        "train.info()"
      ],
      "execution_count": 13,
      "outputs": [
        {
          "output_type": "stream",
          "text": [
            "<class 'pandas.core.frame.DataFrame'>\n",
            "Int64Index: 300000 entries, 1 to 499999\n",
            "Data columns (total 25 columns):\n",
            " #   Column  Non-Null Count   Dtype  \n",
            "---  ------  --------------   -----  \n",
            " 0   cat0    300000 non-null  object \n",
            " 1   cat1    300000 non-null  object \n",
            " 2   cat2    300000 non-null  object \n",
            " 3   cat3    300000 non-null  object \n",
            " 4   cat4    300000 non-null  object \n",
            " 5   cat5    300000 non-null  object \n",
            " 6   cat6    300000 non-null  object \n",
            " 7   cat7    300000 non-null  object \n",
            " 8   cat8    300000 non-null  object \n",
            " 9   cat9    300000 non-null  object \n",
            " 10  cont0   300000 non-null  float64\n",
            " 11  cont1   300000 non-null  float64\n",
            " 12  cont2   300000 non-null  float64\n",
            " 13  cont3   300000 non-null  float64\n",
            " 14  cont4   300000 non-null  float64\n",
            " 15  cont5   300000 non-null  float64\n",
            " 16  cont6   300000 non-null  float64\n",
            " 17  cont7   300000 non-null  float64\n",
            " 18  cont8   300000 non-null  float64\n",
            " 19  cont9   300000 non-null  float64\n",
            " 20  cont10  300000 non-null  float64\n",
            " 21  cont11  300000 non-null  float64\n",
            " 22  cont12  300000 non-null  float64\n",
            " 23  cont13  300000 non-null  float64\n",
            " 24  target  300000 non-null  float64\n",
            "dtypes: float64(15), object(10)\n",
            "memory usage: 59.5+ MB\n"
          ],
          "name": "stdout"
        }
      ]
    },
    {
      "cell_type": "code",
      "metadata": {
        "id": "rPJc4_ZL-19u"
      },
      "source": [
        "X=train.drop(\"target\",axis=1)\n",
        "y=train[['target']]"
      ],
      "execution_count": 14,
      "outputs": []
    },
    {
      "cell_type": "code",
      "metadata": {
        "colab": {
          "base_uri": "https://localhost:8080/",
          "height": 450
        },
        "id": "ElksU8aa_C31",
        "outputId": "78b642d1-c05a-446c-dd44-fc5bdbfd0ed0"
      },
      "source": [
        "X"
      ],
      "execution_count": 15,
      "outputs": [
        {
          "output_type": "execute_result",
          "data": {
            "text/html": [
              "<div>\n",
              "<style scoped>\n",
              "    .dataframe tbody tr th:only-of-type {\n",
              "        vertical-align: middle;\n",
              "    }\n",
              "\n",
              "    .dataframe tbody tr th {\n",
              "        vertical-align: top;\n",
              "    }\n",
              "\n",
              "    .dataframe thead th {\n",
              "        text-align: right;\n",
              "    }\n",
              "</style>\n",
              "<table border=\"1\" class=\"dataframe\">\n",
              "  <thead>\n",
              "    <tr style=\"text-align: right;\">\n",
              "      <th></th>\n",
              "      <th>cat0</th>\n",
              "      <th>cat1</th>\n",
              "      <th>cat2</th>\n",
              "      <th>cat3</th>\n",
              "      <th>cat4</th>\n",
              "      <th>cat5</th>\n",
              "      <th>cat6</th>\n",
              "      <th>cat7</th>\n",
              "      <th>cat8</th>\n",
              "      <th>cat9</th>\n",
              "      <th>cont0</th>\n",
              "      <th>cont1</th>\n",
              "      <th>cont2</th>\n",
              "      <th>cont3</th>\n",
              "      <th>cont4</th>\n",
              "      <th>cont5</th>\n",
              "      <th>cont6</th>\n",
              "      <th>cont7</th>\n",
              "      <th>cont8</th>\n",
              "      <th>cont9</th>\n",
              "      <th>cont10</th>\n",
              "      <th>cont11</th>\n",
              "      <th>cont12</th>\n",
              "      <th>cont13</th>\n",
              "    </tr>\n",
              "    <tr>\n",
              "      <th>id</th>\n",
              "      <th></th>\n",
              "      <th></th>\n",
              "      <th></th>\n",
              "      <th></th>\n",
              "      <th></th>\n",
              "      <th></th>\n",
              "      <th></th>\n",
              "      <th></th>\n",
              "      <th></th>\n",
              "      <th></th>\n",
              "      <th></th>\n",
              "      <th></th>\n",
              "      <th></th>\n",
              "      <th></th>\n",
              "      <th></th>\n",
              "      <th></th>\n",
              "      <th></th>\n",
              "      <th></th>\n",
              "      <th></th>\n",
              "      <th></th>\n",
              "      <th></th>\n",
              "      <th></th>\n",
              "      <th></th>\n",
              "      <th></th>\n",
              "    </tr>\n",
              "  </thead>\n",
              "  <tbody>\n",
              "    <tr>\n",
              "      <th>1</th>\n",
              "      <td>B</td>\n",
              "      <td>B</td>\n",
              "      <td>B</td>\n",
              "      <td>C</td>\n",
              "      <td>B</td>\n",
              "      <td>B</td>\n",
              "      <td>A</td>\n",
              "      <td>E</td>\n",
              "      <td>C</td>\n",
              "      <td>N</td>\n",
              "      <td>0.201470</td>\n",
              "      <td>-0.014822</td>\n",
              "      <td>0.669699</td>\n",
              "      <td>0.136278</td>\n",
              "      <td>0.610706</td>\n",
              "      <td>0.400361</td>\n",
              "      <td>0.160266</td>\n",
              "      <td>0.310921</td>\n",
              "      <td>0.389470</td>\n",
              "      <td>0.267559</td>\n",
              "      <td>0.237281</td>\n",
              "      <td>0.377873</td>\n",
              "      <td>0.322401</td>\n",
              "      <td>0.869850</td>\n",
              "    </tr>\n",
              "    <tr>\n",
              "      <th>2</th>\n",
              "      <td>B</td>\n",
              "      <td>B</td>\n",
              "      <td>A</td>\n",
              "      <td>A</td>\n",
              "      <td>B</td>\n",
              "      <td>D</td>\n",
              "      <td>A</td>\n",
              "      <td>F</td>\n",
              "      <td>A</td>\n",
              "      <td>O</td>\n",
              "      <td>0.743068</td>\n",
              "      <td>0.367411</td>\n",
              "      <td>1.021605</td>\n",
              "      <td>0.365798</td>\n",
              "      <td>0.276853</td>\n",
              "      <td>0.533087</td>\n",
              "      <td>0.558922</td>\n",
              "      <td>0.516294</td>\n",
              "      <td>0.594928</td>\n",
              "      <td>0.341439</td>\n",
              "      <td>0.906013</td>\n",
              "      <td>0.921701</td>\n",
              "      <td>0.261975</td>\n",
              "      <td>0.465083</td>\n",
              "    </tr>\n",
              "    <tr>\n",
              "      <th>3</th>\n",
              "      <td>A</td>\n",
              "      <td>A</td>\n",
              "      <td>A</td>\n",
              "      <td>C</td>\n",
              "      <td>B</td>\n",
              "      <td>D</td>\n",
              "      <td>A</td>\n",
              "      <td>D</td>\n",
              "      <td>A</td>\n",
              "      <td>F</td>\n",
              "      <td>0.742708</td>\n",
              "      <td>0.310383</td>\n",
              "      <td>-0.012673</td>\n",
              "      <td>0.576957</td>\n",
              "      <td>0.285074</td>\n",
              "      <td>0.650609</td>\n",
              "      <td>0.375348</td>\n",
              "      <td>0.902567</td>\n",
              "      <td>0.555205</td>\n",
              "      <td>0.843531</td>\n",
              "      <td>0.748809</td>\n",
              "      <td>0.620126</td>\n",
              "      <td>0.541474</td>\n",
              "      <td>0.763846</td>\n",
              "    </tr>\n",
              "    <tr>\n",
              "      <th>4</th>\n",
              "      <td>B</td>\n",
              "      <td>B</td>\n",
              "      <td>A</td>\n",
              "      <td>C</td>\n",
              "      <td>B</td>\n",
              "      <td>D</td>\n",
              "      <td>A</td>\n",
              "      <td>E</td>\n",
              "      <td>C</td>\n",
              "      <td>K</td>\n",
              "      <td>0.429551</td>\n",
              "      <td>0.620998</td>\n",
              "      <td>0.577942</td>\n",
              "      <td>0.280610</td>\n",
              "      <td>0.284667</td>\n",
              "      <td>0.668980</td>\n",
              "      <td>0.239061</td>\n",
              "      <td>0.732948</td>\n",
              "      <td>0.679618</td>\n",
              "      <td>0.574844</td>\n",
              "      <td>0.346010</td>\n",
              "      <td>0.714610</td>\n",
              "      <td>0.540150</td>\n",
              "      <td>0.280682</td>\n",
              "    </tr>\n",
              "    <tr>\n",
              "      <th>6</th>\n",
              "      <td>A</td>\n",
              "      <td>A</td>\n",
              "      <td>A</td>\n",
              "      <td>C</td>\n",
              "      <td>B</td>\n",
              "      <td>D</td>\n",
              "      <td>A</td>\n",
              "      <td>E</td>\n",
              "      <td>A</td>\n",
              "      <td>N</td>\n",
              "      <td>1.058291</td>\n",
              "      <td>0.367492</td>\n",
              "      <td>-0.052389</td>\n",
              "      <td>0.232407</td>\n",
              "      <td>0.287595</td>\n",
              "      <td>0.686964</td>\n",
              "      <td>0.420667</td>\n",
              "      <td>0.648182</td>\n",
              "      <td>0.684501</td>\n",
              "      <td>0.956692</td>\n",
              "      <td>1.000773</td>\n",
              "      <td>0.776742</td>\n",
              "      <td>0.625849</td>\n",
              "      <td>0.250823</td>\n",
              "    </tr>\n",
              "    <tr>\n",
              "      <th>...</th>\n",
              "      <td>...</td>\n",
              "      <td>...</td>\n",
              "      <td>...</td>\n",
              "      <td>...</td>\n",
              "      <td>...</td>\n",
              "      <td>...</td>\n",
              "      <td>...</td>\n",
              "      <td>...</td>\n",
              "      <td>...</td>\n",
              "      <td>...</td>\n",
              "      <td>...</td>\n",
              "      <td>...</td>\n",
              "      <td>...</td>\n",
              "      <td>...</td>\n",
              "      <td>...</td>\n",
              "      <td>...</td>\n",
              "      <td>...</td>\n",
              "      <td>...</td>\n",
              "      <td>...</td>\n",
              "      <td>...</td>\n",
              "      <td>...</td>\n",
              "      <td>...</td>\n",
              "      <td>...</td>\n",
              "      <td>...</td>\n",
              "    </tr>\n",
              "    <tr>\n",
              "      <th>499993</th>\n",
              "      <td>B</td>\n",
              "      <td>B</td>\n",
              "      <td>A</td>\n",
              "      <td>A</td>\n",
              "      <td>B</td>\n",
              "      <td>D</td>\n",
              "      <td>A</td>\n",
              "      <td>E</td>\n",
              "      <td>A</td>\n",
              "      <td>I</td>\n",
              "      <td>0.697124</td>\n",
              "      <td>0.483452</td>\n",
              "      <td>0.297770</td>\n",
              "      <td>0.195821</td>\n",
              "      <td>0.307883</td>\n",
              "      <td>0.769792</td>\n",
              "      <td>0.450538</td>\n",
              "      <td>0.934360</td>\n",
              "      <td>1.005077</td>\n",
              "      <td>0.853726</td>\n",
              "      <td>0.422541</td>\n",
              "      <td>1.063463</td>\n",
              "      <td>0.697685</td>\n",
              "      <td>0.506404</td>\n",
              "    </tr>\n",
              "    <tr>\n",
              "      <th>499996</th>\n",
              "      <td>A</td>\n",
              "      <td>B</td>\n",
              "      <td>A</td>\n",
              "      <td>C</td>\n",
              "      <td>B</td>\n",
              "      <td>B</td>\n",
              "      <td>A</td>\n",
              "      <td>E</td>\n",
              "      <td>E</td>\n",
              "      <td>F</td>\n",
              "      <td>0.446200</td>\n",
              "      <td>0.715135</td>\n",
              "      <td>0.610931</td>\n",
              "      <td>0.601730</td>\n",
              "      <td>0.736713</td>\n",
              "      <td>0.528056</td>\n",
              "      <td>0.508502</td>\n",
              "      <td>0.358247</td>\n",
              "      <td>0.257825</td>\n",
              "      <td>0.433525</td>\n",
              "      <td>0.301015</td>\n",
              "      <td>0.268447</td>\n",
              "      <td>0.577055</td>\n",
              "      <td>0.823611</td>\n",
              "    </tr>\n",
              "    <tr>\n",
              "      <th>499997</th>\n",
              "      <td>B</td>\n",
              "      <td>B</td>\n",
              "      <td>A</td>\n",
              "      <td>C</td>\n",
              "      <td>B</td>\n",
              "      <td>C</td>\n",
              "      <td>A</td>\n",
              "      <td>E</td>\n",
              "      <td>G</td>\n",
              "      <td>F</td>\n",
              "      <td>0.544279</td>\n",
              "      <td>0.060937</td>\n",
              "      <td>0.590955</td>\n",
              "      <td>0.905308</td>\n",
              "      <td>0.277074</td>\n",
              "      <td>0.688747</td>\n",
              "      <td>0.372425</td>\n",
              "      <td>0.364936</td>\n",
              "      <td>0.383224</td>\n",
              "      <td>0.551825</td>\n",
              "      <td>0.661007</td>\n",
              "      <td>0.629606</td>\n",
              "      <td>0.714139</td>\n",
              "      <td>0.245732</td>\n",
              "    </tr>\n",
              "    <tr>\n",
              "      <th>499998</th>\n",
              "      <td>A</td>\n",
              "      <td>B</td>\n",
              "      <td>A</td>\n",
              "      <td>C</td>\n",
              "      <td>B</td>\n",
              "      <td>B</td>\n",
              "      <td>A</td>\n",
              "      <td>E</td>\n",
              "      <td>E</td>\n",
              "      <td>I</td>\n",
              "      <td>0.300062</td>\n",
              "      <td>0.613118</td>\n",
              "      <td>0.285213</td>\n",
              "      <td>0.406851</td>\n",
              "      <td>0.805963</td>\n",
              "      <td>0.344404</td>\n",
              "      <td>0.424243</td>\n",
              "      <td>0.382028</td>\n",
              "      <td>0.468819</td>\n",
              "      <td>0.351036</td>\n",
              "      <td>0.288768</td>\n",
              "      <td>0.611169</td>\n",
              "      <td>0.380254</td>\n",
              "      <td>0.332030</td>\n",
              "    </tr>\n",
              "    <tr>\n",
              "      <th>499999</th>\n",
              "      <td>A</td>\n",
              "      <td>A</td>\n",
              "      <td>A</td>\n",
              "      <td>C</td>\n",
              "      <td>A</td>\n",
              "      <td>D</td>\n",
              "      <td>A</td>\n",
              "      <td>E</td>\n",
              "      <td>A</td>\n",
              "      <td>O</td>\n",
              "      <td>0.857752</td>\n",
              "      <td>0.628528</td>\n",
              "      <td>0.539625</td>\n",
              "      <td>0.396143</td>\n",
              "      <td>0.276785</td>\n",
              "      <td>0.565347</td>\n",
              "      <td>0.328669</td>\n",
              "      <td>0.789165</td>\n",
              "      <td>0.960406</td>\n",
              "      <td>0.776019</td>\n",
              "      <td>0.734707</td>\n",
              "      <td>0.484392</td>\n",
              "      <td>0.639754</td>\n",
              "      <td>0.689317</td>\n",
              "    </tr>\n",
              "  </tbody>\n",
              "</table>\n",
              "<p>300000 rows × 24 columns</p>\n",
              "</div>"
            ],
            "text/plain": [
              "       cat0 cat1 cat2 cat3  ...    cont10    cont11    cont12    cont13\n",
              "id                          ...                                        \n",
              "1         B    B    B    C  ...  0.237281  0.377873  0.322401  0.869850\n",
              "2         B    B    A    A  ...  0.906013  0.921701  0.261975  0.465083\n",
              "3         A    A    A    C  ...  0.748809  0.620126  0.541474  0.763846\n",
              "4         B    B    A    C  ...  0.346010  0.714610  0.540150  0.280682\n",
              "6         A    A    A    C  ...  1.000773  0.776742  0.625849  0.250823\n",
              "...     ...  ...  ...  ...  ...       ...       ...       ...       ...\n",
              "499993    B    B    A    A  ...  0.422541  1.063463  0.697685  0.506404\n",
              "499996    A    B    A    C  ...  0.301015  0.268447  0.577055  0.823611\n",
              "499997    B    B    A    C  ...  0.661007  0.629606  0.714139  0.245732\n",
              "499998    A    B    A    C  ...  0.288768  0.611169  0.380254  0.332030\n",
              "499999    A    A    A    C  ...  0.734707  0.484392  0.639754  0.689317\n",
              "\n",
              "[300000 rows x 24 columns]"
            ]
          },
          "metadata": {
            "tags": []
          },
          "execution_count": 15
        }
      ]
    },
    {
      "cell_type": "code",
      "metadata": {
        "colab": {
          "base_uri": "https://localhost:8080/"
        },
        "id": "2dYxoc-e_Gut",
        "outputId": "ec535607-861b-415a-f9e8-340b434a4d98"
      },
      "source": [
        "numeric_ = X.select_dtypes(exclude=['object']).copy()\n",
        "numeric_.columns"
      ],
      "execution_count": 16,
      "outputs": [
        {
          "output_type": "execute_result",
          "data": {
            "text/plain": [
              "Index(['cont0', 'cont1', 'cont2', 'cont3', 'cont4', 'cont5', 'cont6', 'cont7',\n",
              "       'cont8', 'cont9', 'cont10', 'cont11', 'cont12', 'cont13'],\n",
              "      dtype='object')"
            ]
          },
          "metadata": {
            "tags": []
          },
          "execution_count": 16
        }
      ]
    },
    {
      "cell_type": "code",
      "metadata": {
        "colab": {
          "base_uri": "https://localhost:8080/"
        },
        "id": "OAewgqob_Uep",
        "outputId": "ace0f4a5-df57-4cad-acb5-ed94f465b38a"
      },
      "source": [
        "categoric_ = X.select_dtypes(exclude=['float64']).copy()\n",
        "categoric_.columns"
      ],
      "execution_count": 17,
      "outputs": [
        {
          "output_type": "execute_result",
          "data": {
            "text/plain": [
              "Index(['cat0', 'cat1', 'cat2', 'cat3', 'cat4', 'cat5', 'cat6', 'cat7', 'cat8',\n",
              "       'cat9'],\n",
              "      dtype='object')"
            ]
          },
          "metadata": {
            "tags": []
          },
          "execution_count": 17
        }
      ]
    },
    {
      "cell_type": "code",
      "metadata": {
        "colab": {
          "base_uri": "https://localhost:8080/"
        },
        "id": "Eqd9MqtQ_6Qq",
        "outputId": "d77ed7fd-62ae-421b-eb68-3c4f29987c42"
      },
      "source": [
        "numeric_var = [] \n",
        "numeric_var.append(numeric_.columns)\n",
        "numeric_var"
      ],
      "execution_count": 18,
      "outputs": [
        {
          "output_type": "execute_result",
          "data": {
            "text/plain": [
              "[Index(['cont0', 'cont1', 'cont2', 'cont3', 'cont4', 'cont5', 'cont6', 'cont7',\n",
              "        'cont8', 'cont9', 'cont10', 'cont11', 'cont12', 'cont13'],\n",
              "       dtype='object')]"
            ]
          },
          "metadata": {
            "tags": []
          },
          "execution_count": 18
        }
      ]
    },
    {
      "cell_type": "code",
      "metadata": {
        "colab": {
          "base_uri": "https://localhost:8080/",
          "height": 801
        },
        "id": "-AJ3ETXJBq3h",
        "outputId": "412bca80-d620-4e74-a925-3c5ac3a36635"
      },
      "source": [
        "fig = plt.figure(figsize=(18,16))\n",
        "for index,col in enumerate(numeric_): \n",
        "    plt.subplot(6,4,index+1)\n",
        "    sns.distplot(numeric_.loc[:,col].dropna(),kde=False)\n",
        "fig.tight_layout(pad=1.0)"
      ],
      "execution_count": 19,
      "outputs": [
        {
          "output_type": "display_data",
          "data": {
            "image/png": "[encoded data removed]",
            "text/plain": [
              "<Figure size 1296x1152 with 14 Axes>"
            ]
          },
          "metadata": {
            "tags": [],
            "needs_background": "light"
          }
        }
      ]
    },
    {
      "cell_type": "code",
      "metadata": {
        "colab": {
          "base_uri": "https://localhost:8080/",
          "height": 736
        },
        "id": "E1t7BjqTCAeT",
        "outputId": "7ed30e69-2d90-465f-d91b-bc090bac3512"
      },
      "source": [
        "fig = plt.figure(figsize=(14,15))\n",
        "for index,col in enumerate(numeric_):\n",
        "    plt.subplot(6,4,index+1)\n",
        "    sns.boxplot(y=col, data=numeric_.dropna())\n",
        "fig.tight_layout(pad=1.0)"
      ],
      "execution_count": 20,
      "outputs": [
        {
          "output_type": "display_data",
          "data": {
            "image/png": "[encoded data removed]",
            "text/plain": [
              "<Figure size 1008x1080 with 14 Axes>"
            ]
          },
          "metadata": {
            "tags": [],
            "needs_background": "light"
          }
        }
      ]
    },
    {
      "cell_type": "code",
      "metadata": {
        "colab": {
          "base_uri": "https://localhost:8080/",
          "height": 314
        },
        "id": "V8SHU9_OAKHk",
        "outputId": "f897ade1-5f22-4972-c18c-58fb209bd11f"
      },
      "source": [
        "fig = plt.figure(figsize=(18,20))\n",
        "for index in range(len(categoric_.columns)):\n",
        "    plt.subplot(10,5,index+1)\n",
        "    sns.countplot(x=categoric_.iloc[:,index], data=categoric_.dropna())\n",
        "    plt.xticks(rotation=90)\n",
        "fig.tight_layout(pad=1.0)"
      ],
      "execution_count": 21,
      "outputs": [
        {
          "output_type": "display_data",
          "data": {
            "image/png": "[encoded data removed]",
            "text/plain": [
              "<Figure size 1296x1440 with 10 Axes>"
            ]
          },
          "metadata": {
            "tags": [],
            "needs_background": "light"
          }
        }
      ]
    }
  ]
}