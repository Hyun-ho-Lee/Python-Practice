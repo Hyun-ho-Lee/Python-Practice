{
  "nbformat": 4,
  "nbformat_minor": 0,
  "metadata": {
    "colab": {
      "name": "기본기 단련 08-06.ipynb",
      "provenance": [],
      "authorship_tag": "ABX9TyNi3tdNVT23SmkH5bh5tjZK",
      "include_colab_link": true
    },
    "kernelspec": {
      "name": "python3",
      "display_name": "Python 3"
    },
    "language_info": {
      "name": "python"
    }
  },
  "cells": [
    {
      "cell_type": "markdown",
      "metadata": {
        "id": "view-in-github",
        "colab_type": "text"
      },
      "source": [
        "<a href=\"https://colab.research.google.com/github/Hyun-ho-Lee/python/blob/main/%EA%B8%B0%EB%B3%B8%EA%B8%B0_%EB%8B%A8%EB%A0%A8_08_06.ipynb\" target=\"_parent\"><img src=\"https://colab.research.google.com/assets/colab-badge.svg\" alt=\"Open In Colab\"/></a>"
      ]
    },
    {
      "cell_type": "markdown",
      "metadata": {
        "id": "8EZMz_Z1CAKm"
      },
      "source": [
        "Booleans  \n",
        "\n",
        "파이썬에서 bool 객체는 True or False 로 return 함 "
      ]
    },
    {
      "cell_type": "code",
      "metadata": {
        "colab": {
          "base_uri": "https://localhost:8080/"
        },
        "id": "inKGKH4zBKTR",
        "outputId": "1637566d-117f-4044-d570-82a8feba79b8"
      },
      "source": [
        "x= True \n",
        "print(x)\n",
        "print(type(x))"
      ],
      "execution_count": 1,
      "outputs": [
        {
          "output_type": "stream",
          "text": [
            "True\n",
            "<class 'bool'>\n"
          ],
          "name": "stdout"
        }
      ]
    },
    {
      "cell_type": "markdown",
      "metadata": {
        "id": "18sUAPaaCKBO"
      },
      "source": [
        "a == b : a와b는 같다 \n",
        "a < b  : a가b보다 작다 \n",
        "a > b  : a가b보다 크다 \n",
        "a != b : a와b는 다르다 ( != 구문은 많이 쓰임) \n",
        "\n"
      ]
    },
    {
      "cell_type": "code",
      "metadata": {
        "colab": {
          "base_uri": "https://localhost:8080/"
        },
        "id": "RlxoB1EDCI2s",
        "outputId": "ca0f406f-6340-46c7-cc76-921c2863cbc9"
      },
      "source": [
        "#나이가 35이상 대통령이 될수 있는지 없는지에 대해서 함수를 정의 만약 35세 이상이면 True 아닐경우 False\n",
        "def can_run_for_president(age): \n",
        "  return age >=35\n",
        "\n",
        "print(\"19살이 대통령이 될수 있을까?\",can_run_for_president(19))\n",
        "print(\"45살이 대통령이 될수 있을까?\",can_run_for_president(45))\n",
        "\n"
      ],
      "execution_count": 3,
      "outputs": [
        {
          "output_type": "stream",
          "text": [
            "19살이 대통령이 될수 있을까? False\n",
            "45살이 대통령이 될수 있을까? True\n"
          ],
          "name": "stdout"
        }
      ]
    },
    {
      "cell_type": "code",
      "metadata": {
        "colab": {
          "base_uri": "https://localhost:8080/"
        },
        "id": "W-OEX8kWDBQ7",
        "outputId": "ffa86526-961e-405f-cd84-66232ddf1ade"
      },
      "source": [
        "#숫자 비교에서도 사용이 가능함 \n",
        "print(3.0 == 3)\n",
        "#\"3\"과 3 은 다르므로 False 반환\n",
        "print('3'==3)"
      ],
      "execution_count": 6,
      "outputs": [
        {
          "output_type": "stream",
          "text": [
            "True\n",
            "False\n"
          ],
          "name": "stdout"
        }
      ]
    },
    {
      "cell_type": "markdown",
      "metadata": {
        "id": "jpxdED6WDXAS"
      },
      "source": [
        "비교 연산자를 통하여서 홀수만 반환하는 함수를 뽑을수 있음 (홀수는 숫자를 2 로나누었는데 나머지가 1인 경우를 뽑아냄) "
      ]
    },
    {
      "cell_type": "code",
      "metadata": {
        "colab": {
          "base_uri": "https://localhost:8080/"
        },
        "id": "uB7P3olQDOI0",
        "outputId": "c86fe130-97e1-4c4f-992f-9af00a56a5d0"
      },
      "source": [
        "def is_odd(n):\n",
        "  return (n % 2)==1\n",
        "\n",
        "print(\"100은 홀수인가?\",is_odd(100))\n",
        "print(\"-1은 홀수인가?\",is_odd(-1))\n"
      ],
      "execution_count": 8,
      "outputs": [
        {
          "output_type": "stream",
          "text": [
            "100은 홀수인가? False\n",
            "-1은 홀수인가? True\n"
          ],
          "name": "stdout"
        }
      ]
    },
    {
      "cell_type": "code",
      "metadata": {
        "colab": {
          "base_uri": "https://localhost:8080/"
        },
        "id": "Ad3aE-70FKB7",
        "outputId": "e869d168-f8dc-48ca-d745-5a093eba8420"
      },
      "source": [
        "def can_run_for_president(age, is_natural_born_citizen):\n",
        "  return is_natural_born_citizen and (age >= 35)\n",
        "  \n",
        "print(can_run_for_president(19,True))\n",
        "print(can_run_for_president(55,False))\n",
        "print(can_run_for_president(55,True))"
      ],
      "execution_count": 9,
      "outputs": [
        {
          "output_type": "stream",
          "text": [
            "False\n",
            "False\n",
            "True\n"
          ],
          "name": "stdout"
        }
      ]
    },
    {
      "cell_type": "code",
      "metadata": {
        "id": "3SM5UPYHHDW7"
      },
      "source": [
        "prepared_for_weather = have_umbrella or (rain_level <5 and have_hood) or not (rain_level >0 and is_worday)"
      ],
      "execution_count": null,
      "outputs": []
    },
    {
      "cell_type": "markdown",
      "metadata": {
        "id": "oR8M_rJvHgdz"
      },
      "source": [
        "if elif else 에 관하여 함수정의 \n",
        "반복문에서도 자주 사용되므로 제대로 숙지\n",
        "\n",
        "다음 문장 넘어갈떄 (:사용시) space 4번이 국룰"
      ]
    },
    {
      "cell_type": "code",
      "metadata": {
        "colab": {
          "base_uri": "https://localhost:8080/"
        },
        "id": "xdreqJpFHkzX",
        "outputId": "311e151c-1f60-480b-e6ca-5d5870a10e0d"
      },
      "source": [
        "def inspect(x):\n",
        "  if x == 0:\n",
        "      print(x,\"is zero\")\n",
        "  elif x > 0: \n",
        "      print(x,\"is positive\")\n",
        "  elif x < 0: \n",
        "      print(x,\"is negative\")\n",
        "  else:\n",
        "     print(x,\"is unlike anything I've ever seen\")\n",
        "\n",
        "inspect(0)\n",
        "inspect(-15)\n",
        "inspect(1)    "
      ],
      "execution_count": 11,
      "outputs": [
        {
          "output_type": "stream",
          "text": [
            "0 is zero\n",
            "-15 is negative\n",
            "1 is positive\n"
          ],
          "name": "stdout"
        }
      ]
    },
    {
      "cell_type": "code",
      "metadata": {
        "colab": {
          "base_uri": "https://localhost:8080/"
        },
        "id": "qXMiLG-CJQ6q",
        "outputId": "4e23fdca-c293-43ed-cc13-3dc329c6ce61"
      },
      "source": [
        "def f(x):\n",
        "  if x > 0 : \n",
        "        print(\"Only printed when x is positive; x=\",x)\n",
        "        print(\"Also only printed when x is positive; x =\",x)\n",
        "  print(\"Always printed; regardless of x's value; x=\",x)\n",
        "  \n",
        "f(1)\n",
        "f(0)"
      ],
      "execution_count": 12,
      "outputs": [
        {
          "output_type": "stream",
          "text": [
            "Only printed when x is positive; x= 1\n",
            "Also only printed when x is positive; x = 1\n",
            "Always printed; regardless of x's value; x= 1\n",
            "Always printed; regardless of x's value; x= 0\n"
          ],
          "name": "stdout"
        }
      ]
    },
    {
      "cell_type": "code",
      "metadata": {
        "colab": {
          "base_uri": "https://localhost:8080/"
        },
        "id": "zEVwhE36KQgJ",
        "outputId": "28157360-e1a1-48d5-9b23-ccdf84f25829"
      },
      "source": [
        "if 0:\n",
        "  print(0)\n",
        "elif \"spam\":\n",
        "  print(\"spam\")\n",
        "\n",
        "#위 경우 0이면 0을 프린트하고 아닐경우 spam 리턴 따라서 아무것도 안들어있는걸 돌리므로 spam 나오는 형태"
      ],
      "execution_count": 14,
      "outputs": [
        {
          "output_type": "stream",
          "text": [
            "spam\n"
          ],
          "name": "stdout"
        }
      ]
    },
    {
      "cell_type": "markdown",
      "metadata": {
        "id": "n1cscfUAKxtV"
      },
      "source": [
        "1.Many programming languages have sign available as a built-in function. Python doesn't, but we can define our own!\n",
        "\n",
        "In the cell below, define a function called sign which takes a numerical argument and returns -1 if it's negative, 1 if it's positive, and 0 if it's 0."
      ]
    },
    {
      "cell_type": "code",
      "metadata": {
        "colab": {
          "base_uri": "https://localhost:8080/"
        },
        "id": "38pirZGDKwO1",
        "outputId": "9322cf8f-bfd2-4832-aca1-226511e21e46"
      },
      "source": [
        "def sign(x):\n",
        "      if x>0: \n",
        "            return 1\n",
        "      elif x<0:\n",
        "            return -1\n",
        "      else:\n",
        "            return 0 \n",
        "\n",
        "print(sign(1))\n",
        "print(sign(-1))\n",
        "print(sign(0))          "
      ],
      "execution_count": 17,
      "outputs": [
        {
          "output_type": "stream",
          "text": [
            "1\n",
            "-1\n",
            "0\n"
          ],
          "name": "stdout"
        }
      ]
    },
    {
      "cell_type": "markdown",
      "metadata": {
        "id": "mnzRo0NELsOj"
      },
      "source": [
        "2.\n",
        "We've decided to add \"logging\" to our to_smash function from the previous exercise."
      ]
    },
    {
      "cell_type": "code",
      "metadata": {
        "colab": {
          "base_uri": "https://localhost:8080/"
        },
        "id": "c8GDKO9lLrx1",
        "outputId": "80417ce2-62ac-47cf-f81a-b20f8c412c34"
      },
      "source": [
        "def to_smash(total_candies):\n",
        "  print(\"Splitting\",total_candies,\"candies\")\n",
        "  return total_candies % 3\n",
        "\n",
        "print(to_smash(91))\n",
        "print(to_smash(1))\n",
        "\n",
        "\n",
        "#to_smahs(91)일경우 1만 남기는 함수를 짜보는 형식"
      ],
      "execution_count": 20,
      "outputs": [
        {
          "output_type": "stream",
          "text": [
            "Splitting 91 candies\n",
            "1\n",
            "Splitting 1 candies\n",
            "1\n"
          ],
          "name": "stdout"
        }
      ]
    },
    {
      "cell_type": "code",
      "metadata": {
        "colab": {
          "base_uri": "https://localhost:8080/"
        },
        "id": "Wg1ndd45M5Ob",
        "outputId": "90053742-37d0-401b-ab57-755a4a9befef"
      },
      "source": [
        "def to_smash(total_candies):\n",
        "  if total_candies ==1:\n",
        "     print(\"Splitting 1 candy\")\n",
        "  else: \n",
        "    print(\"Splitiing\",total_candies,\"candies\")\n",
        "\n",
        "to_smash(91)\n",
        "to_smash(1)\n",
        "\n",
        "#한줄로 짜는 방법\n",
        "\n",
        "total_candies =1 \n",
        "total_candies =91\n",
        "print(\"Splitting\",total_candies,\"candy\" if total_candies ==1 else \"candies\")"
      ],
      "execution_count": 27,
      "outputs": [
        {
          "output_type": "stream",
          "text": [
            "Splitiing 91 candies\n",
            "Splitting 1 candy\n",
            "Splitting 91 candies\n"
          ],
          "name": "stdout"
        }
      ]
    },
    {
      "cell_type": "code",
      "metadata": {
        "colab": {
          "base_uri": "https://localhost:8080/"
        },
        "id": "jKFBKe_oOEbz",
        "outputId": "38d2e301-2a85-465d-e6e3-19f454302880"
      },
      "source": [
        "def prepared_for_weather(have_umbrella, rain_level, have_hood, is_workday):\n",
        "    return have_umbrella or rain_level < 5 and have_hood or (not (rain_level > 0)) and is_workday\n",
        "\n",
        "have_umbrella = False\n",
        "rain_level = 0.0\n",
        "have_hood = False\n",
        "is_workday = False\n",
        "actual = prepared_for_weather(have_umbrella, rain_level, have_hood, is_workday)\n",
        "print(actual)\n",
        "\n",
        "\n"
      ],
      "execution_count": 30,
      "outputs": [
        {
          "output_type": "stream",
          "text": [
            "False\n"
          ],
          "name": "stdout"
        }
      ]
    },
    {
      "cell_type": "code",
      "metadata": {
        "colab": {
          "base_uri": "https://localhost:8080/"
        },
        "id": "XYaurQWlSsSE",
        "outputId": "4553699e-7ae6-4465-f500-68cbe3465596"
      },
      "source": [
        "def is_negative(number):\n",
        "    if number < 0 : \n",
        "        return True\n",
        "    else: \n",
        "        return False \n",
        "\n",
        "def concise_is_negative(number):\n",
        "    return number < 0\n",
        "\n",
        "concise_is_negative(1)"
      ],
      "execution_count": 32,
      "outputs": [
        {
          "output_type": "execute_result",
          "data": {
            "text/plain": [
              "False"
            ]
          },
          "metadata": {
            "tags": []
          },
          "execution_count": 32
        }
      ]
    },
    {
      "cell_type": "code",
      "metadata": {
        "colab": {
          "base_uri": "https://localhost:8080/",
          "height": 209
        },
        "id": "EsJclj4zUCdt",
        "outputId": "53a0a700-2ee9-404f-d6c1-9025c27b5936"
      },
      "source": [
        "def onionless(ketchup,mustard,onion):\n",
        "  return not onion"
      ],
      "execution_count": 35,
      "outputs": [
        {
          "output_type": "error",
          "ename": "NameError",
          "evalue": "ignored",
          "traceback": [
            "\u001b[0;31m---------------------------------------------------------------------------\u001b[0m",
            "\u001b[0;31mNameError\u001b[0m                                 Traceback (most recent call last)",
            "\u001b[0;32m<ipython-input-35-0d1deecc5121>\u001b[0m in \u001b[0;36m<module>\u001b[0;34m()\u001b[0m\n\u001b[1;32m      2\u001b[0m   \u001b[0;32mreturn\u001b[0m \u001b[0;32mnot\u001b[0m \u001b[0monion\u001b[0m\u001b[0;34m\u001b[0m\u001b[0;34m\u001b[0m\u001b[0m\n\u001b[1;32m      3\u001b[0m \u001b[0;34m\u001b[0m\u001b[0m\n\u001b[0;32m----> 4\u001b[0;31m \u001b[0monionless\u001b[0m\u001b[0;34m(\u001b[0m\u001b[0mketchup\u001b[0m\u001b[0;34m,\u001b[0m\u001b[0mmustard\u001b[0m\u001b[0;34m,\u001b[0m\u001b[0monion\u001b[0m\u001b[0;34m)\u001b[0m\u001b[0;34m\u001b[0m\u001b[0;34m\u001b[0m\u001b[0m\n\u001b[0m",
            "\u001b[0;31mNameError\u001b[0m: name 'ketchup' is not defined"
          ]
        }
      ]
    },
    {
      "cell_type": "code",
      "metadata": {
        "id": "a7ip0p8wXm-E"
      },
      "source": [
        "def wants_all_toppings(ketchup, mustard, onion):\n",
        "  return ketchup and mustard and onion"
      ],
      "execution_count": 40,
      "outputs": []
    },
    {
      "cell_type": "code",
      "metadata": {
        "id": "odhVJ9tDYJvP"
      },
      "source": [
        "def wants_plain_hotdog(ketchup, mustard, onion):\n",
        "  return not ketchup and not mustard and not onion"
      ],
      "execution_count": 41,
      "outputs": []
    },
    {
      "cell_type": "code",
      "metadata": {
        "id": "EA89GPhpZEsN"
      },
      "source": [
        "def exactly_one_topping(ketchup, mustard, onion):\n",
        "  return (ketchup + mustard + onion) ==1 "
      ],
      "execution_count": 42,
      "outputs": []
    },
    {
      "cell_type": "code",
      "metadata": {
        "id": "9ReTxABabeAU"
      },
      "source": [
        ""
      ],
      "execution_count": null,
      "outputs": []
    }
  ]
}
