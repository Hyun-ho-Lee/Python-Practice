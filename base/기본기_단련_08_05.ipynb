{
  "nbformat": 4,
  "nbformat_minor": 0,
  "metadata": {
    "colab": {
      "name": "기본기 단련 08-05.ipynb",
      "provenance": [],
      "authorship_tag": "ABX9TyNXwjgswWdiJC372YfU9u1X",
      "include_colab_link": true
    },
    "kernelspec": {
      "name": "python3",
      "display_name": "Python 3"
    },
    "language_info": {
      "name": "python"
    }
  },
  "cells": [
    {
      "cell_type": "markdown",
      "metadata": {
        "id": "view-in-github",
        "colab_type": "text"
      },
      "source": [
        "<a href=\"https://colab.research.google.com/github/Hyun-ho-Lee/python/blob/main/%EA%B8%B0%EB%B3%B8%EA%B8%B0_%EB%8B%A8%EB%A0%A8_08_05.ipynb\" target=\"_parent\"><img src=\"https://colab.research.google.com/assets/colab-badge.svg\" alt=\"Open In Colab\"/></a>"
      ]
    },
    {
      "cell_type": "code",
      "metadata": {
        "id": "ngzRW2H5wlXh"
      },
      "source": [
        "import pandas as pd\n",
        "import re \n",
        "from urllib import request "
      ],
      "execution_count": null,
      "outputs": []
    },
    {
      "cell_type": "code",
      "metadata": {
        "colab": {
          "base_uri": "https://localhost:8080/",
          "height": 175
        },
        "id": "KOS9LFuuw38_",
        "outputId": "d2c83f10-e65a-407e-a2ae-5cec0d4551a8"
      },
      "source": [
        "df"
      ],
      "execution_count": null,
      "outputs": [
        {
          "output_type": "execute_result",
          "data": {
            "text/html": [
              "<div>\n",
              "<style scoped>\n",
              "    .dataframe tbody tr th:only-of-type {\n",
              "        vertical-align: middle;\n",
              "    }\n",
              "\n",
              "    .dataframe tbody tr th {\n",
              "        vertical-align: top;\n",
              "    }\n",
              "\n",
              "    .dataframe thead th {\n",
              "        text-align: right;\n",
              "    }\n",
              "</style>\n",
              "<table border=\"1\" class=\"dataframe\">\n",
              "  <thead>\n",
              "    <tr style=\"text-align: right;\">\n",
              "      <th></th>\n",
              "      <th>team</th>\n",
              "      <th>against</th>\n",
              "      <th>fifa_rank</th>\n",
              "    </tr>\n",
              "  </thead>\n",
              "  <tbody>\n",
              "    <tr>\n",
              "      <th>0</th>\n",
              "      <td>russia</td>\n",
              "      <td>saudiarabia</td>\n",
              "      <td>65</td>\n",
              "    </tr>\n",
              "    <tr>\n",
              "      <th>1</th>\n",
              "      <td>saudiarabia</td>\n",
              "      <td>russia</td>\n",
              "      <td>63</td>\n",
              "    </tr>\n",
              "    <tr>\n",
              "      <th>2</th>\n",
              "      <td>egypt</td>\n",
              "      <td>uruguay</td>\n",
              "      <td>31</td>\n",
              "    </tr>\n",
              "    <tr>\n",
              "      <th>3</th>\n",
              "      <td>uruguay</td>\n",
              "      <td>egypt</td>\n",
              "      <td>21</td>\n",
              "    </tr>\n",
              "  </tbody>\n",
              "</table>\n",
              "</div>"
            ],
            "text/plain": [
              "          team      against  fifa_rank\n",
              "0       russia  saudiarabia         65\n",
              "1  saudiarabia       russia         63\n",
              "2        egypt      uruguay         31\n",
              "3      uruguay        egypt         21"
            ]
          },
          "metadata": {
            "tags": []
          },
          "execution_count": 6
        }
      ]
    },
    {
      "cell_type": "code",
      "metadata": {
        "colab": {
          "base_uri": "https://localhost:8080/"
        },
        "id": "nZ_KtkN75m8y",
        "outputId": "dcb5da9b-06e8-4efd-c3b6-0b785a8e3ef8"
      },
      "source": [
        "myList=[1,2,3,4,5]\n",
        "\n",
        "result1=[]\n",
        "for val in myList:\n",
        "  result1.append(val+1)\n",
        "\n",
        "print(f'result1 : {result1}')\n",
        "\n",
        "def add_one(n):\n",
        "  return n+1 \n",
        "\n",
        "result2=list(map(add_one,myList))\n",
        "print(f'result2 : {result2}')"
      ],
      "execution_count": null,
      "outputs": [
        {
          "output_type": "stream",
          "text": [
            "result1 : [2, 3, 4, 5, 6]\n",
            "result2 : [2, 3, 4, 5, 6]\n"
          ],
          "name": "stdout"
        }
      ]
    },
    {
      "cell_type": "code",
      "metadata": {
        "colab": {
          "base_uri": "https://localhost:8080/"
        },
        "id": "dk0S2quG68Sw",
        "outputId": "950a3927-fb45-4b59-c900-1e79d010d6c1"
      },
      "source": [
        "import math \n",
        "\n",
        "result1= list(map(int,[1.1, 2.2, 3.3, 4.4, 5.5]))\n",
        "print(f'map(int, 리스트) : {result1}')"
      ],
      "execution_count": null,
      "outputs": [
        {
          "output_type": "stream",
          "text": [
            "map(int, 리스트) : [1, 2, 3, 4, 5]\n"
          ],
          "name": "stdout"
        }
      ]
    },
    {
      "cell_type": "code",
      "metadata": {
        "colab": {
          "base_uri": "https://localhost:8080/"
        },
        "id": "UQSMAnlh7m4N",
        "outputId": "c6ab0b1c-9199-4444-f9bb-999689af65d7"
      },
      "source": [
        "def func_pow(x):\n",
        "  return pow(x,5)\n",
        "result2=list(map(func_pow,[1,2,3,4,5]))\n",
        "print(f'map(func_pow, 리스트) : {result2}')"
      ],
      "execution_count": null,
      "outputs": [
        {
          "output_type": "stream",
          "text": [
            "map(func_pow, 리스트) : [1, 32, 243, 1024, 3125]\n"
          ],
          "name": "stdout"
        }
      ]
    },
    {
      "cell_type": "code",
      "metadata": {
        "colab": {
          "base_uri": "https://localhost:8080/"
        },
        "id": "Af87q4vA__ob",
        "outputId": "7d92d100-39ca-4290-e56e-94c4808d0626"
      },
      "source": [
        "def func_mul(x):\n",
        "  return x * 2 \n",
        "\n",
        "result2=list(map(lambda x : x * 2,[5,4,3,2,1]))\n",
        "result2"
      ],
      "execution_count": null,
      "outputs": [
        {
          "output_type": "execute_result",
          "data": {
            "text/plain": [
              "[10, 8, 6, 4, 2]"
            ]
          },
          "metadata": {
            "tags": []
          },
          "execution_count": 20
        }
      ]
    }
  ]
}
