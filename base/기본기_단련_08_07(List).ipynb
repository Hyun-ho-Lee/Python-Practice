{
  "nbformat": 4,
  "nbformat_minor": 0,
  "metadata": {
    "colab": {
      "name": "기본기 단련 08-07(List).ipynb",
      "provenance": [],
      "collapsed_sections": [],
      "authorship_tag": "ABX9TyPLjgh+4xrmkMGdDFiO5YFA",
      "include_colab_link": true
    },
    "kernelspec": {
      "name": "python3",
      "display_name": "Python 3"
    },
    "language_info": {
      "name": "python"
    }
  },
  "cells": [
    {
      "cell_type": "markdown",
      "metadata": {
        "id": "view-in-github",
        "colab_type": "text"
      },
      "source": [
        "<a href=\"https://colab.research.google.com/github/Hyun-ho-Lee/python/blob/main/%EA%B8%B0%EB%B3%B8%EA%B8%B0_%EB%8B%A8%EB%A0%A8_08_07(List).ipynb\" target=\"_parent\"><img src=\"https://colab.research.google.com/assets/colab-badge.svg\" alt=\"Open In Colab\"/></a>"
      ]
    },
    {
      "cell_type": "markdown",
      "metadata": {
        "id": "tKQCzSWUNLFQ"
      },
      "source": [
        "Lists\n",
        "Lists in Python represent ordered sequences of values. Here is an example of how to create them:\n",
        "\n",
        "파이썬 내 List 사용법에 관하여 "
      ]
    },
    {
      "cell_type": "code",
      "metadata": {
        "id": "7awex-hQNBRL"
      },
      "source": [
        "primes=[2,3,5,7]"
      ],
      "execution_count": 1,
      "outputs": []
    },
    {
      "cell_type": "code",
      "metadata": {
        "id": "6VSdZbWiN0aq"
      },
      "source": [
        "planets = ['Mercury', 'Venus', 'Earth', 'Mars', 'Jupiter', 'Saturn', 'Uranus', 'Neptune']"
      ],
      "execution_count": 29,
      "outputs": []
    },
    {
      "cell_type": "code",
      "metadata": {
        "id": "5T57MnxNN3ah"
      },
      "source": [
        "hands = [ \n",
        "         ['J','Q','K'],\n",
        "         ['2','2','2'],\n",
        "         ['6','A','K'],\n",
        "]"
      ],
      "execution_count": 3,
      "outputs": []
    },
    {
      "cell_type": "code",
      "metadata": {
        "colab": {
          "base_uri": "https://localhost:8080/"
        },
        "id": "HCCHj-KoOGKR",
        "outputId": "3c947b01-750a-4d2d-e528-7ad1447b4c81"
      },
      "source": [
        "my_favourite_things=[32,'raindrops on roses',help]\n",
        "my_favourite_things"
      ],
      "execution_count": 4,
      "outputs": [
        {
          "output_type": "execute_result",
          "data": {
            "text/plain": [
              "[32,\n",
              " 'raindrops on roses',\n",
              " Type help() for interactive help, or help(object) for help about object.]"
            ]
          },
          "metadata": {
            "tags": []
          },
          "execution_count": 4
        }
      ]
    },
    {
      "cell_type": "code",
      "metadata": {
        "colab": {
          "base_uri": "https://localhost:8080/",
          "height": 35
        },
        "id": "H2eWE8KWOT3z",
        "outputId": "09d386ba-f4be-48d8-fa7a-41c2730d2926"
      },
      "source": [
        "#파이썬은 1부터가 아닌 0부터라는걸 꼭 꼭 까먹지말것\n",
        "planets[0]"
      ],
      "execution_count": 5,
      "outputs": [
        {
          "output_type": "execute_result",
          "data": {
            "application/vnd.google.colaboratory.intrinsic+json": {
              "type": "string"
            },
            "text/plain": [
              "'Mercury'"
            ]
          },
          "metadata": {
            "tags": []
          },
          "execution_count": 5
        }
      ]
    },
    {
      "cell_type": "code",
      "metadata": {
        "colab": {
          "base_uri": "https://localhost:8080/",
          "height": 35
        },
        "id": "DIFurQO9Oa8I",
        "outputId": "f7793067-e477-4e91-bbc0-cc276e34ffca"
      },
      "source": [
        "planets[1]"
      ],
      "execution_count": 6,
      "outputs": [
        {
          "output_type": "execute_result",
          "data": {
            "application/vnd.google.colaboratory.intrinsic+json": {
              "type": "string"
            },
            "text/plain": [
              "'Venus'"
            ]
          },
          "metadata": {
            "tags": []
          },
          "execution_count": 6
        }
      ]
    },
    {
      "cell_type": "code",
      "metadata": {
        "colab": {
          "base_uri": "https://localhost:8080/",
          "height": 35
        },
        "id": "LK6xh4G2Odf3",
        "outputId": "442c708f-1b45-4edc-a2c1-01012c56ad13"
      },
      "source": [
        "#-1일경우 마지막 순서에있는 객체 리턴 \n",
        "planets[-1]"
      ],
      "execution_count": 7,
      "outputs": [
        {
          "output_type": "execute_result",
          "data": {
            "application/vnd.google.colaboratory.intrinsic+json": {
              "type": "string"
            },
            "text/plain": [
              "'Neptune'"
            ]
          },
          "metadata": {
            "tags": []
          },
          "execution_count": 7
        }
      ]
    },
    {
      "cell_type": "code",
      "metadata": {
        "colab": {
          "base_uri": "https://localhost:8080/",
          "height": 35
        },
        "id": "EzA_lS3eOh-6",
        "outputId": "2f0be72c-e14b-4cc4-c6d4-ca97e65ed6bb"
      },
      "source": [
        "planets[-2]"
      ],
      "execution_count": 8,
      "outputs": [
        {
          "output_type": "execute_result",
          "data": {
            "application/vnd.google.colaboratory.intrinsic+json": {
              "type": "string"
            },
            "text/plain": [
              "'Uranus'"
            ]
          },
          "metadata": {
            "tags": []
          },
          "execution_count": 8
        }
      ]
    },
    {
      "cell_type": "markdown",
      "metadata": {
        "id": "-849reolOl03"
      },
      "source": [
        "Slicing 이용해서 원하는 범위까지 뽑아내는 방법 사용이 가능함\n",
        "\n"
      ]
    },
    {
      "cell_type": "code",
      "metadata": {
        "colab": {
          "base_uri": "https://localhost:8080/"
        },
        "id": "0DkJoo8EOlWl",
        "outputId": "0f19f6c9-53db-403f-f5a6-cbe7b4f5f200"
      },
      "source": [
        "#[0:3]일경우 0,1,2 리턴 즉 3번 전까지 리턴하는 개념 \n",
        "planets[0:3]"
      ],
      "execution_count": 9,
      "outputs": [
        {
          "output_type": "execute_result",
          "data": {
            "text/plain": [
              "['Mercury', 'Venus', 'Earth']"
            ]
          },
          "metadata": {
            "tags": []
          },
          "execution_count": 9
        }
      ]
    },
    {
      "cell_type": "code",
      "metadata": {
        "colab": {
          "base_uri": "https://localhost:8080/"
        },
        "id": "I63p-eNlO1Z8",
        "outputId": "862e385e-80fc-4e17-c04c-c1ea64cd5b6d"
      },
      "source": [
        "#마찬가지로 :3 일경우 처음부터 3번전까지 리턴 아무것도 안넣을경우 0이 디폴트이므로 \n",
        "planets[:3]"
      ],
      "execution_count": 10,
      "outputs": [
        {
          "output_type": "execute_result",
          "data": {
            "text/plain": [
              "['Mercury', 'Venus', 'Earth']"
            ]
          },
          "metadata": {
            "tags": []
          },
          "execution_count": 10
        }
      ]
    },
    {
      "cell_type": "code",
      "metadata": {
        "colab": {
          "base_uri": "https://localhost:8080/"
        },
        "id": "NJxaR8o6O8Q7",
        "outputId": "67049741-ab5a-4fac-8bf3-921fd26048de"
      },
      "source": [
        "#3:일경우 3번쨰부터 끝까지 리턴 \n",
        "planets[3:]"
      ],
      "execution_count": 11,
      "outputs": [
        {
          "output_type": "execute_result",
          "data": {
            "text/plain": [
              "['Mars', 'Jupiter', 'Saturn', 'Uranus', 'Neptune']"
            ]
          },
          "metadata": {
            "tags": []
          },
          "execution_count": 11
        }
      ]
    },
    {
      "cell_type": "code",
      "metadata": {
        "colab": {
          "base_uri": "https://localhost:8080/"
        },
        "id": "IXzG_m3hPOrI",
        "outputId": "9ad5e68a-ad1e-4f0a-ab62-7a83be5e3449"
      },
      "source": [
        "#처음(Mercury) 그리고 마지막(Neptune)을 제외하고 리턴하는 방법은? \n",
        "\n",
        "planets[1:-1]"
      ],
      "execution_count": 12,
      "outputs": [
        {
          "output_type": "execute_result",
          "data": {
            "text/plain": [
              "['Venus', 'Earth', 'Mars', 'Jupiter', 'Saturn', 'Uranus']"
            ]
          },
          "metadata": {
            "tags": []
          },
          "execution_count": 12
        }
      ]
    },
    {
      "cell_type": "code",
      "metadata": {
        "colab": {
          "base_uri": "https://localhost:8080/"
        },
        "id": "ibw0Ffg4Pa9Q",
        "outputId": "039103a9-9a7c-4423-d7ba-1d494eab7af2"
      },
      "source": [
        "#뒤에있는 3개만 뽑는 방법 (-3이라하면 뒤에서 3번째부터 끝까지 추출) \n",
        "planets[-3:]"
      ],
      "execution_count": 13,
      "outputs": [
        {
          "output_type": "execute_result",
          "data": {
            "text/plain": [
              "['Saturn', 'Uranus', 'Neptune']"
            ]
          },
          "metadata": {
            "tags": []
          },
          "execution_count": 13
        }
      ]
    },
    {
      "cell_type": "markdown",
      "metadata": {
        "id": "Sl5Xzh3vPmus"
      },
      "source": [
        "Changing lists \n",
        "리스트 내에있는 단어를 바꿀수가 있음 그 방법에 대해서 "
      ]
    },
    {
      "cell_type": "code",
      "metadata": {
        "colab": {
          "base_uri": "https://localhost:8080/"
        },
        "id": "czbu5iuPP1mu",
        "outputId": "565380db-2db5-4c3a-93f5-d7c5f169089a"
      },
      "source": [
        "planets"
      ],
      "execution_count": 14,
      "outputs": [
        {
          "output_type": "execute_result",
          "data": {
            "text/plain": [
              "['Mercury', 'Venus', 'Earth', 'Mars', 'Jupiter', 'Saturn', 'Uranus', 'Neptune']"
            ]
          },
          "metadata": {
            "tags": []
          },
          "execution_count": 14
        }
      ]
    },
    {
      "cell_type": "code",
      "metadata": {
        "colab": {
          "base_uri": "https://localhost:8080/"
        },
        "id": "5t3ojszTPk_z",
        "outputId": "226fb568-553c-404c-819a-3bac45ab1f64"
      },
      "source": [
        "#Mars의 이름을 바꾸는 방법 \n",
        "planets[3]='Malacandra'\n",
        "planets"
      ],
      "execution_count": 15,
      "outputs": [
        {
          "output_type": "execute_result",
          "data": {
            "text/plain": [
              "['Mercury',\n",
              " 'Venus',\n",
              " 'Earth',\n",
              " 'Malacandra',\n",
              " 'Jupiter',\n",
              " 'Saturn',\n",
              " 'Uranus',\n",
              " 'Neptune']"
            ]
          },
          "metadata": {
            "tags": []
          },
          "execution_count": 15
        }
      ]
    },
    {
      "cell_type": "code",
      "metadata": {
        "colab": {
          "base_uri": "https://localhost:8080/"
        },
        "id": "PZqYTkpcQEnw",
        "outputId": "4129d30a-0e02-470f-88fa-5325ecd6bc5c"
      },
      "source": [
        "#planets의 처음부터 3번쨰까지 바꾸는 방법 \n",
        "planets[:3]=['Mur','Vee','Ur']\n",
        "print(planets)\n",
        "planets[:4]=['Mercury','Venus','Earth','Mars']\n",
        "planets"
      ],
      "execution_count": 16,
      "outputs": [
        {
          "output_type": "stream",
          "text": [
            "['Mur', 'Vee', 'Ur', 'Malacandra', 'Jupiter', 'Saturn', 'Uranus', 'Neptune']\n"
          ],
          "name": "stdout"
        },
        {
          "output_type": "execute_result",
          "data": {
            "text/plain": [
              "['Mercury', 'Venus', 'Earth', 'Mars', 'Jupiter', 'Saturn', 'Uranus', 'Neptune']"
            ]
          },
          "metadata": {
            "tags": []
          },
          "execution_count": 16
        }
      ]
    },
    {
      "cell_type": "markdown",
      "metadata": {
        "id": "3FaKILkfTEZX"
      },
      "source": [
        "list의 기능중 len을 이용하여 갯수를 셀수있음 \n",
        "\n",
        "len같은경우 plot 그리거나 여러가지에서 응용이 가능함 (len 응용의 경우 찾아보기) \n",
        "\n",
        "*참고 enumerate() 함수의 경우 인덱스와 같이 나옴 "
      ]
    },
    {
      "cell_type": "code",
      "metadata": {
        "colab": {
          "base_uri": "https://localhost:8080/"
        },
        "id": "OqebW1fnVuPe",
        "outputId": "d1db96fa-c219-4440-c67b-f731596de3f6"
      },
      "source": [
        "for index, value in enumerate(planets):\n",
        "      print(index,value)"
      ],
      "execution_count": 17,
      "outputs": [
        {
          "output_type": "stream",
          "text": [
            "0 Mercury\n",
            "1 Venus\n",
            "2 Earth\n",
            "3 Mars\n",
            "4 Jupiter\n",
            "5 Saturn\n",
            "6 Uranus\n",
            "7 Neptune\n"
          ],
          "name": "stdout"
        }
      ]
    },
    {
      "cell_type": "code",
      "metadata": {
        "colab": {
          "base_uri": "https://localhost:8080/"
        },
        "id": "Jkfc7dqfTDkA",
        "outputId": "96db3c53-fa2f-4c47-d8cf-62753dfd0e35"
      },
      "source": [
        "len(planets)"
      ],
      "execution_count": 18,
      "outputs": [
        {
          "output_type": "execute_result",
          "data": {
            "text/plain": [
              "8"
            ]
          },
          "metadata": {
            "tags": []
          },
          "execution_count": 18
        }
      ]
    },
    {
      "cell_type": "code",
      "metadata": {
        "colab": {
          "base_uri": "https://localhost:8080/"
        },
        "id": "EM2GpU3tV_19",
        "outputId": "62ac5eef-c59c-4389-d758-df72e282ae55"
      },
      "source": [
        "sorted(planets)"
      ],
      "execution_count": 19,
      "outputs": [
        {
          "output_type": "execute_result",
          "data": {
            "text/plain": [
              "['Earth', 'Jupiter', 'Mars', 'Mercury', 'Neptune', 'Saturn', 'Uranus', 'Venus']"
            ]
          },
          "metadata": {
            "tags": []
          },
          "execution_count": 19
        }
      ]
    },
    {
      "cell_type": "code",
      "metadata": {
        "colab": {
          "base_uri": "https://localhost:8080/"
        },
        "id": "4vNN6ubKWrNM",
        "outputId": "aa62756b-5b8d-40de-e395-bef24dc806a6"
      },
      "source": [
        "primes=[2,3,5,7]\n",
        "sum(primes)"
      ],
      "execution_count": 20,
      "outputs": [
        {
          "output_type": "execute_result",
          "data": {
            "text/plain": [
              "17"
            ]
          },
          "metadata": {
            "tags": []
          },
          "execution_count": 20
        }
      ]
    },
    {
      "cell_type": "code",
      "metadata": {
        "colab": {
          "base_uri": "https://localhost:8080/"
        },
        "id": "bDiUbvmxXYyO",
        "outputId": "13e1552b-3ca6-4a31-e485-a23f5fd52749"
      },
      "source": [
        "max(primes)"
      ],
      "execution_count": 21,
      "outputs": [
        {
          "output_type": "execute_result",
          "data": {
            "text/plain": [
              "7"
            ]
          },
          "metadata": {
            "tags": []
          },
          "execution_count": 21
        }
      ]
    },
    {
      "cell_type": "code",
      "metadata": {
        "colab": {
          "base_uri": "https://localhost:8080/"
        },
        "id": "Hj4TPCFVXaze",
        "outputId": "e0cab9bb-b65b-4021-b58c-f429c8ce0922"
      },
      "source": [
        "x = 12\n",
        "# x is a real number, so its imaginary part is 0.\n",
        "print(x.imag)\n",
        "# Here's how to make a complex number, in case you've ever been curious:\n",
        "c = 12 + 3j\n",
        "print(c.imag)"
      ],
      "execution_count": 22,
      "outputs": [
        {
          "output_type": "stream",
          "text": [
            "0\n",
            "3.0\n"
          ],
          "name": "stdout"
        }
      ]
    },
    {
      "cell_type": "code",
      "metadata": {
        "colab": {
          "base_uri": "https://localhost:8080/"
        },
        "id": "bQ6VplsZZHRa",
        "outputId": "bc542fc7-8f98-46d8-dfb1-fc71052449f1"
      },
      "source": [
        "x.bit_length()"
      ],
      "execution_count": 23,
      "outputs": [
        {
          "output_type": "execute_result",
          "data": {
            "text/plain": [
              "4"
            ]
          },
          "metadata": {
            "tags": []
          },
          "execution_count": 23
        }
      ]
    },
    {
      "cell_type": "code",
      "metadata": {
        "colab": {
          "base_uri": "https://localhost:8080/"
        },
        "id": "bhxLt8LDZwZN",
        "outputId": "e022b83a-f29e-4978-9384-9bf10cfc0197"
      },
      "source": [
        "#.append 사용시에 리스트 마지막에 객체 추가함  \n",
        "planets.append('Pluto')\n",
        "planets"
      ],
      "execution_count": 30,
      "outputs": [
        {
          "output_type": "execute_result",
          "data": {
            "text/plain": [
              "['Mercury',\n",
              " 'Venus',\n",
              " 'Earth',\n",
              " 'Mars',\n",
              " 'Jupiter',\n",
              " 'Saturn',\n",
              " 'Uranus',\n",
              " 'Neptune',\n",
              " 'Pluto']"
            ]
          },
          "metadata": {
            "tags": []
          },
          "execution_count": 30
        }
      ]
    },
    {
      "cell_type": "code",
      "metadata": {
        "colab": {
          "base_uri": "https://localhost:8080/",
          "height": 35
        },
        "id": "ucyE_ggybNz3",
        "outputId": "44e0dec4-dc11-46d2-c0f2-0ebd2a589c85"
      },
      "source": [
        "#.pop() 사용시 마지막원소 리턴 \n",
        "planets.pop()"
      ],
      "execution_count": 31,
      "outputs": [
        {
          "output_type": "execute_result",
          "data": {
            "application/vnd.google.colaboratory.intrinsic+json": {
              "type": "string"
            },
            "text/plain": [
              "'Pluto'"
            ]
          },
          "metadata": {
            "tags": []
          },
          "execution_count": 31
        }
      ]
    },
    {
      "cell_type": "code",
      "metadata": {
        "colab": {
          "base_uri": "https://localhost:8080/"
        },
        "id": "V595jyhTbbX_",
        "outputId": "48235d63-7071-4ce4-df9b-ce99218f75fb"
      },
      "source": [
        "print(planets)"
      ],
      "execution_count": 32,
      "outputs": [
        {
          "output_type": "stream",
          "text": [
            "['Mercury', 'Venus', 'Earth', 'Mars', 'Jupiter', 'Saturn', 'Uranus', 'Neptune']\n"
          ],
          "name": "stdout"
        }
      ]
    },
    {
      "cell_type": "code",
      "metadata": {
        "colab": {
          "base_uri": "https://localhost:8080/"
        },
        "id": "PaX4kn-2bVhz",
        "outputId": "ddf68ed7-d744-4d7c-e086-aaa7742c3197"
      },
      "source": [
        "#list안에서 몇번째 순서인지 확인하는 함수 .index 이용 \n",
        "\n",
        "planets.index('Earth')"
      ],
      "execution_count": 33,
      "outputs": [
        {
          "output_type": "execute_result",
          "data": {
            "text/plain": [
              "2"
            ]
          },
          "metadata": {
            "tags": []
          },
          "execution_count": 33
        }
      ]
    },
    {
      "cell_type": "code",
      "metadata": {
        "colab": {
          "base_uri": "https://localhost:8080/",
          "height": 191
        },
        "id": "U-vpjMcvbxJl",
        "outputId": "a7511d71-8131-4473-b663-b2b7746373e5"
      },
      "source": [
        "#Pluto 같은경우 위에서 .pop 이용하여 삭제시켰으므로 코드 실행시 오류 발생\n",
        "planets.index('Pluto')"
      ],
      "execution_count": 34,
      "outputs": [
        {
          "output_type": "error",
          "ename": "ValueError",
          "evalue": "ignored",
          "traceback": [
            "\u001b[0;31m---------------------------------------------------------------------------\u001b[0m",
            "\u001b[0;31mValueError\u001b[0m                                Traceback (most recent call last)",
            "\u001b[0;32m<ipython-input-34-5939d4752a1e>\u001b[0m in \u001b[0;36m<module>\u001b[0;34m()\u001b[0m\n\u001b[1;32m      1\u001b[0m \u001b[0;31m#Pluto 같은경우 위에서 .pop 이용하여 삭제시켰으므로 코드 실행시 오류 발생\u001b[0m\u001b[0;34m\u001b[0m\u001b[0;34m\u001b[0m\u001b[0;34m\u001b[0m\u001b[0m\n\u001b[0;32m----> 2\u001b[0;31m \u001b[0mplanets\u001b[0m\u001b[0;34m.\u001b[0m\u001b[0mindex\u001b[0m\u001b[0;34m(\u001b[0m\u001b[0;34m'Pluto'\u001b[0m\u001b[0;34m)\u001b[0m\u001b[0;34m\u001b[0m\u001b[0;34m\u001b[0m\u001b[0m\n\u001b[0m",
            "\u001b[0;31mValueError\u001b[0m: 'Pluto' is not in list"
          ]
        }
      ]
    },
    {
      "cell_type": "code",
      "metadata": {
        "colab": {
          "base_uri": "https://localhost:8080/"
        },
        "id": "ONYk7bhzb5M5",
        "outputId": "5a711869-ec3f-4388-9ad3-5d4c54e02d3d"
      },
      "source": [
        "#지구가 planets 리스트 안에있는지 True or False 로 리턴 \n",
        "\n",
        "\"Earth\" in planets"
      ],
      "execution_count": 35,
      "outputs": [
        {
          "output_type": "execute_result",
          "data": {
            "text/plain": [
              "True"
            ]
          },
          "metadata": {
            "tags": []
          },
          "execution_count": 35
        }
      ]
    },
    {
      "cell_type": "code",
      "metadata": {
        "colab": {
          "base_uri": "https://localhost:8080/"
        },
        "id": "ZWtdzQg-cCRp",
        "outputId": "ad16d29b-7ae8-4aa0-d3cd-cad6f018f75f"
      },
      "source": [
        "t=(1,2,3)\n",
        "t"
      ],
      "execution_count": 36,
      "outputs": [
        {
          "output_type": "execute_result",
          "data": {
            "text/plain": [
              "(1, 2, 3)"
            ]
          },
          "metadata": {
            "tags": []
          },
          "execution_count": 36
        }
      ]
    },
    {
      "cell_type": "code",
      "metadata": {
        "colab": {
          "base_uri": "https://localhost:8080/"
        },
        "id": "LOrxP2BQcNwP",
        "outputId": "84f3a6eb-04c2-4e18-8ab5-53583ede0526"
      },
      "source": [
        "x=0.125\n",
        "x.as_integer_ratio()"
      ],
      "execution_count": 37,
      "outputs": [
        {
          "output_type": "execute_result",
          "data": {
            "text/plain": [
              "(1, 8)"
            ]
          },
          "metadata": {
            "tags": []
          },
          "execution_count": 37
        }
      ]
    },
    {
      "cell_type": "code",
      "metadata": {
        "id": "ZR89qPHSce6i"
      },
      "source": [
        "def select_second(L):\n",
        "    \"\"\"Return the second element of the given list. If the list has no second\n",
        "    element, return None.\n",
        "    \"\"\"\n",
        "    if len(L) <2 :\n",
        "          return None\n",
        "    return L[1]"
      ],
      "execution_count": 38,
      "outputs": []
    },
    {
      "cell_type": "code",
      "metadata": {
        "id": "NMM8Bkc5fe-B"
      },
      "source": [
        "def losing_team_captain(teams):\n",
        "    return teams[-1][1]"
      ],
      "execution_count": null,
      "outputs": []
    },
    {
      "cell_type": "code",
      "metadata": {
        "id": "UmMvnFAof1tv"
      },
      "source": [
        "def purple_shell(racers):\n",
        "  temp=racers[0]\n",
        "  racers[0]=racers[-1]\n",
        "  racers[-1]=temp"
      ],
      "execution_count": 39,
      "outputs": []
    },
    {
      "cell_type": "code",
      "metadata": {
        "id": "MCbC672wgGaL"
      },
      "source": [
        "party_attendees = ['Adela', 'Fleda', 'Owen', 'May', 'Mona', 'Gilbert', 'Ford']"
      ],
      "execution_count": 40,
      "outputs": []
    },
    {
      "cell_type": "code",
      "metadata": {
        "id": "TuAH0iwHgI0y"
      },
      "source": [
        "def fashionably_late(arrivals, name):\n",
        "    \"\"\"Given an ordered list of arrivals to the party and a name, return whether the guest with that\n",
        "    name was fashionably late.\n",
        "    \"\"\"\n",
        "    pass"
      ],
      "execution_count": null,
      "outputs": []
    },
    {
      "cell_type": "markdown",
      "metadata": {
        "id": "WzDVo3rHg01t"
      },
      "source": [
        "Loop 관련 for 구문을 주로 이용함"
      ]
    },
    {
      "cell_type": "code",
      "metadata": {
        "colab": {
          "base_uri": "https://localhost:8080/"
        },
        "id": "KUAReACKg5OI",
        "outputId": "90f4e7b3-32c3-482a-af73-200f680ae020"
      },
      "source": [
        "planets = ['Mercury', 'Venus', 'Earth', 'Mars', 'Jupiter', 'Saturn', 'Uranus', 'Neptune']\n",
        "\n",
        "for planet in planets:\n",
        "    print(planet,end=' ')"
      ],
      "execution_count": 42,
      "outputs": [
        {
          "output_type": "stream",
          "text": [
            "Mercury Venus Earth Mars Jupiter Saturn Uranus Neptune "
          ],
          "name": "stdout"
        }
      ]
    },
    {
      "cell_type": "code",
      "metadata": {
        "colab": {
          "base_uri": "https://localhost:8080/"
        },
        "id": "SLKFHjO7iD3k",
        "outputId": "7026f4da-8712-4c6f-cd95-269fbe6940d2"
      },
      "source": [
        "multiplicands=(2,2,2,3,3,5)\n",
        "product=1\n",
        "for mul in multiplicands:\n",
        "    product = product*mul\n",
        "product"
      ],
      "execution_count": 43,
      "outputs": [
        {
          "output_type": "execute_result",
          "data": {
            "text/plain": [
              "360"
            ]
          },
          "metadata": {
            "tags": []
          },
          "execution_count": 43
        }
      ]
    },
    {
      "cell_type": "code",
      "metadata": {
        "colab": {
          "base_uri": "https://localhost:8080/"
        },
        "id": "tF1CoGY8iV4o",
        "outputId": "3bc1ef89-e051-4ed9-a754-c5dd08558294"
      },
      "source": [
        "for x in range(1,11):\n",
        "    print(\"*\"*x)"
      ],
      "execution_count": 44,
      "outputs": [
        {
          "output_type": "stream",
          "text": [
            "*\n",
            "**\n",
            "***\n",
            "****\n",
            "*****\n",
            "******\n",
            "*******\n",
            "********\n",
            "*********\n",
            "**********\n"
          ],
          "name": "stdout"
        }
      ]
    },
    {
      "cell_type": "code",
      "metadata": {
        "colab": {
          "base_uri": "https://localhost:8080/"
        },
        "id": "h8PPZKCCjv6c",
        "outputId": "88970ef3-4a2e-41d9-c72e-bf51aa915ca5"
      },
      "source": [
        "while True: \n",
        "  ans=input(\"경민이의 애칭은?\")\n",
        "  if ans==\"똥멍청이\":\n",
        "      print(\"정답!\")\n",
        "      break\n",
        "  print(\"아닙니다\")"
      ],
      "execution_count": 45,
      "outputs": [
        {
          "output_type": "stream",
          "text": [
            "경민이의 애칭은?똥멍청이\n",
            "정답!\n"
          ],
          "name": "stdout"
        }
      ]
    },
    {
      "cell_type": "code",
      "metadata": {
        "colab": {
          "base_uri": "https://localhost:8080/"
        },
        "id": "GXJYJiVdkK41",
        "outputId": "dea5647e-1691-449a-fc9e-27f9d06d3480"
      },
      "source": [
        "s = 'steganograpHy is the practicE of conceaLing a file, message, image, or video within another fiLe, message, image, Or video.'\n",
        "msg=''\n",
        "\n",
        "for char in s: \n",
        "  if char.isupper():\n",
        "      print(char,end='')"
      ],
      "execution_count": 47,
      "outputs": [
        {
          "output_type": "stream",
          "text": [
            "HELLO"
          ],
          "name": "stdout"
        }
      ]
    },
    {
      "cell_type": "code",
      "metadata": {
        "colab": {
          "base_uri": "https://localhost:8080/"
        },
        "id": "KlUbJUypknlu",
        "outputId": "257f6e36-553b-4d85-f985-b26400e5f457"
      },
      "source": [
        "for i in range(5):\n",
        "    print(\"Doing important work.i=\",i)"
      ],
      "execution_count": 48,
      "outputs": [
        {
          "output_type": "stream",
          "text": [
            "Doing important work.i= 0\n",
            "Doing important work.i= 1\n",
            "Doing important work.i= 2\n",
            "Doing important work.i= 3\n",
            "Doing important work.i= 4\n"
          ],
          "name": "stdout"
        }
      ]
    },
    {
      "cell_type": "code",
      "metadata": {
        "colab": {
          "base_uri": "https://localhost:8080/"
        },
        "id": "gpz09rK-k-6W",
        "outputId": "f018603b-441a-4e1e-e3b4-20d2b3b70275"
      },
      "source": [
        "i = 0 \n",
        "while i < 10: \n",
        "    print(i,end=' ')\n",
        "    i += 1 "
      ],
      "execution_count": 50,
      "outputs": [
        {
          "output_type": "stream",
          "text": [
            "0 1 2 3 4 5 6 7 8 9 "
          ],
          "name": "stdout"
        }
      ]
    },
    {
      "cell_type": "code",
      "metadata": {
        "colab": {
          "base_uri": "https://localhost:8080/"
        },
        "id": "G8um4ayQlS92",
        "outputId": "77c9d04d-498e-4c0f-f73e-d41d4678768a"
      },
      "source": [
        "squares = [n**2 for n in range(10)]\n",
        "squares"
      ],
      "execution_count": 51,
      "outputs": [
        {
          "output_type": "execute_result",
          "data": {
            "text/plain": [
              "[0, 1, 4, 9, 16, 25, 36, 49, 64, 81]"
            ]
          },
          "metadata": {
            "tags": []
          },
          "execution_count": 51
        }
      ]
    },
    {
      "cell_type": "code",
      "metadata": {
        "colab": {
          "base_uri": "https://localhost:8080/"
        },
        "id": "wq-lAH0Jljsp",
        "outputId": "f9e8d4d0-0fb4-4f34-f3d4-b1d14bfcc0bf"
      },
      "source": [
        "squares = []\n",
        "for n in range(10):\n",
        "  squares.append(n**2)\n",
        "squares"
      ],
      "execution_count": 52,
      "outputs": [
        {
          "output_type": "execute_result",
          "data": {
            "text/plain": [
              "[0, 1, 4, 9, 16, 25, 36, 49, 64, 81]"
            ]
          },
          "metadata": {
            "tags": []
          },
          "execution_count": 52
        }
      ]
    },
    {
      "cell_type": "code",
      "metadata": {
        "colab": {
          "base_uri": "https://localhost:8080/"
        },
        "id": "um-z2gO5lt-N",
        "outputId": "11ebbd8b-04cd-43c8-90f1-f37bd91b9d2e"
      },
      "source": [
        "short_planets=[planet for planet in planets if len(planet)<6]\n",
        "short_planets"
      ],
      "execution_count": 53,
      "outputs": [
        {
          "output_type": "execute_result",
          "data": {
            "text/plain": [
              "['Venus', 'Earth', 'Mars']"
            ]
          },
          "metadata": {
            "tags": []
          },
          "execution_count": 53
        }
      ]
    },
    {
      "cell_type": "code",
      "metadata": {
        "colab": {
          "base_uri": "https://localhost:8080/"
        },
        "id": "rPrC9cPmmXg1",
        "outputId": "6be484d6-e583-4cde-e2d8-74cfcaed4430"
      },
      "source": [
        "#str.upper은 대문자로 변경\n",
        "loud_short_planets=[planet.upper()+'!' for planet in planets if len(planet)<6]\n",
        "loud_short_planets"
      ],
      "execution_count": 56,
      "outputs": [
        {
          "output_type": "execute_result",
          "data": {
            "text/plain": [
              "['VENUS!', 'EARTH!', 'MARS!']"
            ]
          },
          "metadata": {
            "tags": []
          },
          "execution_count": 56
        }
      ]
    },
    {
      "cell_type": "code",
      "metadata": {
        "id": "KvV7kCKSp0aG"
      },
      "source": [
        "def count_negatives(nums):\n",
        "    n_negative = 0 \n",
        "    for num in nums:\n",
        "        if num < 0:\n",
        "          n_negative=n_negative + 1 \n",
        "    return n_negative"
      ],
      "execution_count": 57,
      "outputs": []
    },
    {
      "cell_type": "code",
      "metadata": {
        "colab": {
          "base_uri": "https://localhost:8080/"
        },
        "id": "b8Qm2epeqVcr",
        "outputId": "0bae90ec-eba2-427e-a3b1-18a213c2bcef"
      },
      "source": [
        "count_negatives([5,-1,-2,0,3])"
      ],
      "execution_count": 58,
      "outputs": [
        {
          "output_type": "execute_result",
          "data": {
            "text/plain": [
              "2"
            ]
          },
          "metadata": {
            "tags": []
          },
          "execution_count": 58
        }
      ]
    },
    {
      "cell_type": "code",
      "metadata": {
        "colab": {
          "base_uri": "https://localhost:8080/"
        },
        "id": "aLHME-4Cqonv",
        "outputId": "5a8b70c2-c153-42f0-f68c-1f544f1c531b"
      },
      "source": [
        "def count_negatives(nums):\n",
        "    return len([num for num in nums if num<0])\n",
        "\n",
        "count_negatives([5,-1,-2,0,3])"
      ],
      "execution_count": 60,
      "outputs": [
        {
          "output_type": "execute_result",
          "data": {
            "text/plain": [
              "2"
            ]
          },
          "metadata": {
            "tags": []
          },
          "execution_count": 60
        }
      ]
    },
    {
      "cell_type": "code",
      "metadata": {
        "colab": {
          "base_uri": "https://localhost:8080/"
        },
        "id": "0HU16Zo9rHWP",
        "outputId": "5ddc9d34-4eab-45f2-b931-833d8e18d01e"
      },
      "source": [
        "len([3,5])"
      ],
      "execution_count": 61,
      "outputs": [
        {
          "output_type": "execute_result",
          "data": {
            "text/plain": [
              "2"
            ]
          },
          "metadata": {
            "tags": []
          },
          "execution_count": 61
        }
      ]
    },
    {
      "cell_type": "code",
      "metadata": {
        "colab": {
          "base_uri": "https://localhost:8080/"
        },
        "id": "FshTZ9IureAX",
        "outputId": "6a0d7289-ab10-45e9-cb7a-52d06633d4d9"
      },
      "source": [
        "def has_lucky_number(nums):\n",
        "    for num in nums: \n",
        "        if num%7 ==0:\n",
        "            return True\n",
        "        else:\n",
        "            return False\n",
        "\n",
        "has_lucky_number([7,5,2,1])"
      ],
      "execution_count": 65,
      "outputs": [
        {
          "output_type": "execute_result",
          "data": {
            "text/plain": [
              "True"
            ]
          },
          "metadata": {
            "tags": []
          },
          "execution_count": 65
        }
      ]
    },
    {
      "cell_type": "code",
      "metadata": {
        "id": "74n3wvvxtOqY"
      },
      "source": [
        "def has_lucky_number(nums):\n",
        "    return any([num % 7 == 0 for num in nums])"
      ],
      "execution_count": null,
      "outputs": []
    },
    {
      "cell_type": "code",
      "metadata": {
        "colab": {
          "base_uri": "https://localhost:8080/"
        },
        "id": "v5dsn8Mqth5i",
        "outputId": "0de1f54f-d32d-420f-a20c-100e446358d9"
      },
      "source": [
        "def elementwise_greater_than(L, thresh):\n",
        "    \"\"\"Return a list with the same length as L, where the value at index i is \n",
        "    True if L[i] is greater than thresh, and False otherwise.\n",
        "    \n",
        "    >>> elementwise_greater_than([1, 2, 3, 4], 2)\n",
        "    [False, False, True, True]\n",
        "    \"\"\"\n",
        "    return [ele > thresh for ele in L]\n",
        "\n",
        "elementwise_greater_than([1, 2, 3, 4], 2)"
      ],
      "execution_count": 66,
      "outputs": [
        {
          "output_type": "execute_result",
          "data": {
            "text/plain": [
              "[False, False, True, True]"
            ]
          },
          "metadata": {
            "tags": []
          },
          "execution_count": 66
        }
      ]
    },
    {
      "cell_type": "code",
      "metadata": {
        "id": "zesfngrd1hGg"
      },
      "source": [
        ""
      ],
      "execution_count": null,
      "outputs": []
    }
  ]
}
